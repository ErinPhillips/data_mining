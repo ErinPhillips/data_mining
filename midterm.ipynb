{
 "cells": [
  {
   "attachments": {},
   "cell_type": "markdown",
   "metadata": {},
   "source": [
    "- https://www.kaggle.com/code/tobyanderson/health-survey-analysis\n",
    "- https://www.kaggle.com/code/gopalkholade/diabetes-prediction\n",
    "- https://www.kaggle.com/code/sohamohajeri/nhanes-dimensionality-reduction-and-clustering \n",
    "- https://www.kaggle.com/code/lcchennn/stroke-prediction-using-machine-learning\n",
    "- https://www.kaggle.com/code/kaggleaar/diseases-and-medications-analysis"
   ]
  },
  {
   "attachments": {},
   "cell_type": "markdown",
   "metadata": {},
   "source": [
    "TODO:\n",
    "1. Featurize the dataset. Clean, organize, and transform the dataset into a useable format. Drop columns, fix null values, etc\n",
    "2. Build functions `dataLoader(), logger(), cluster(), dimRed()`\n",
    "3. Extract metadata, cluster, dimension reduction\n",
    "4. Attempt to answer business questions. "
   ]
  },
  {
   "cell_type": "code",
   "execution_count": 1,
   "metadata": {},
   "outputs": [],
   "source": [
    "import pandas as pd\n",
    "import numpy as np\n",
    "import matplotlib.pyplot as plt\n",
    "import seaborn as sns"
   ]
  },
  {
   "cell_type": "code",
   "execution_count": 3,
   "metadata": {},
   "outputs": [],
   "source": [
    "labs = pd.read_csv('nhnes/labs.csv')\n",
    "exam = pd.read_csv('nhnes/examination.csv')\n",
    "demo = pd.read_csv('nhnes/demographic.csv')\n",
    "diet = pd.read_csv('nhnes/diet.csv')\n",
    "ques = pd.read_csv('nhnes/questionnaire.csv')"
   ]
  }
 ],
 "metadata": {
  "kernelspec": {
   "display_name": "Python 3",
   "language": "python",
   "name": "python3"
  },
  "language_info": {
   "codemirror_mode": {
    "name": "ipython",
    "version": 3
   },
   "file_extension": ".py",
   "mimetype": "text/x-python",
   "name": "python",
   "nbconvert_exporter": "python",
   "pygments_lexer": "ipython3",
   "version": "3.11.0"
  },
  "orig_nbformat": 4
 },
 "nbformat": 4,
 "nbformat_minor": 2
}
