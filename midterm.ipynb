{
 "cells": [
  {
   "attachments": {},
   "cell_type": "markdown",
   "metadata": {},
   "source": [
    "# Data Mining Midterm Project\n",
    "### Why We Chose This Dataset:\n",
    "This data set is extremely robust with information that is thought to be linked to health and nutrition. There are extensive subsets such as demographics, diet, exams, labs, and more that can be analyzed to find correlations that contribute positively or negatively to overall health. There are a lot of questions that can be answered with this data set; we will try to focus on a few we think are interesting to us\n",
    "### Business Questions:\n",
    "1. Can we identify habits/factors that positively or negatively affect health?\n",
    "2. Is there a correlation between income level and overall health?\n",
    "3. Can we identify the main diseases that affect certain demographics?\n",
    "4. Does the presence of one disease increase the likelihood of the presence of another diease within an individual?\n",
    "### Project Outline:\n",
    "1. **Software Engineering** - Will build functions such as `dataLoader(), logger(), featurize(), cluster(),` and `dimRed()` to streamline data transformations within the dataframe(s).\n",
    "2. **Data Engineering** - Will clean, organize, and transform the data for ease of use during the research and analysis portion of the project. Featurization. \n",
    "3. **Business Analysis** - Discover initial challenge questions for the dataset(s). Then evolve the questions as we iterate through the project. \n",
    "4. **Research** - After featurization, extract metadata on the full dataset and run clustering/dimentions reduction on various slices of the data. Metadata will be added to each cluster. Each iteration may vary on addition/deletion of features as we attempts to gain a conclusion on our business questions. \n",
    "### Resources:\n",
    "- https://www.kaggle.com/code/tobyanderson/health-survey-analysis\n",
    "- https://www.kaggle.com/code/gopalkholade/diabetes-prediction\n",
    "- https://www.kaggle.com/code/sohamohajeri/nhanes-dimensionality-reduction-and-clustering \n",
    "- https://www.kaggle.com/code/lcchennn/stroke-prediction-using-machine-learning\n",
    "- https://www.kaggle.com/code/kaggleaar/diseases-and-medications-analysis"
   ]
  },
  {
   "attachments": {},
   "cell_type": "markdown",
   "metadata": {},
   "source": [
    "### TODO:\n",
    "1. Featurize the dataset. Clean, organize, and transform the dataset into a useable format. Drop columns, fix null values, etc\n",
    "2. Build functions `dataLoader(), logger(), cluster(), dimRed()`\n",
    "3. Extract metadata, cluster, dimension reduction\n",
    "4. Generate *great* visuals\n",
    "5. Attempt to answer business questions. "
   ]
  },
  {
   "cell_type": "code",
   "execution_count": 323,
   "metadata": {},
   "outputs": [],
   "source": [
    "import pandas as pd\n",
    "import numpy as np\n",
    "import matplotlib.pyplot as plt\n",
    "import seaborn as sns"
   ]
  },
  {
   "attachments": {},
   "cell_type": "markdown",
   "metadata": {},
   "source": [
    "**Useful Functions**"
   ]
  },
  {
   "cell_type": "code",
   "execution_count": 331,
   "metadata": {},
   "outputs": [],
   "source": [
    "# Returns table with columns and corresponding null value percentages\n",
    "def get_nulls(df):\n",
    "    sum_null = df.isnull().sum()\n",
    "    df_shape = df.shape[0]\n",
    "    null = 100 * (sum_null / df_shape)\n",
    "    return pd.DataFrame({'nullPercent': null})\n",
    "\n",
    "# Selects colmuns with more than 70% null values and removes them from the df.\n",
    "def null_handler(df):\n",
    "    # get percentage of nulls in dataframe.\n",
    "    df_null = get_nulls(df)\n",
    "    high = df_null[df_null['nullPercent'] > 70]\n",
    "    df.drop(list(high.index), axis=1, inplace=True)\n",
    "    print(\"Dropped {} columns with more than 70% null values.\".format(high.size))\n",
    "    \n",
    "# Selects columns with null values and replaces with the mean of each column\n",
    "def mean_replace_null(df):\n",
    "    df_null = get_nulls(df)\n",
    "    df_maj_null = df_null[df_null['nullPercent'] > 0]\n",
    "    for i in list(df_maj_null.index):\n",
    "        df[i] = df[i].fillna(df[i].mean())\n",
    "    print(\"Replaced {} columns with null values with mean of the column.\".format(df_maj_null.size))\n",
    "\n",
    "# Selects columns with object datatypes and removes them from the df. \n",
    "def object_handler(df):\n",
    "    types = pd.DataFrame({'type': df.dtypes})\n",
    "    objects = types[types['type'] == 'object']\n",
    "    df.drop(list(objects.index), axis=1, inplace=True)\n",
    "    print(\"Dropped {} columns with object data types\".format(objects.size))\n",
    "\n",
    "def check_nulls(df):\n",
    "    null_list = []\n",
    "    sum_nulls = 0\n",
    "    for x in list(df.isnull().sum()):\n",
    "        if x != 0:\n",
    "            print(x)\n",
    "        else:\n",
    "            null_list.append(x)\n",
    "    for i in null_list:\n",
    "        sum_nulls += null_list[i]\n",
    "    print(\"Dataframe has {} columns with null values\".format(sum_nulls))\n"
   ]
  },
  {
   "attachments": {},
   "cell_type": "markdown",
   "metadata": {},
   "source": [
    "**Load and Join Data**"
   ]
  },
  {
   "cell_type": "code",
   "execution_count": 325,
   "metadata": {},
   "outputs": [],
   "source": [
    "demo = pd.read_csv('nhnes/demographic.csv')\n",
    "diet = pd.read_csv('nhnes/diet.csv')\n",
    "exam = pd.read_csv('nhnes/examination.csv')\n",
    "labs = pd.read_csv('nhnes/labs.csv')\n",
    "ques = pd.read_csv('nhnes/questionnaire.csv')\n",
    "meds = pd.read_csv('nhnes/medications.csv', encoding='latin1')"
   ]
  },
  {
   "cell_type": "code",
   "execution_count": 326,
   "metadata": {},
   "outputs": [
    {
     "data": {
      "text/plain": [
       "(10175, 1816)"
      ]
     },
     "execution_count": 326,
     "metadata": {},
     "output_type": "execute_result"
    }
   ],
   "source": [
    "df = pd.concat([demo, diet, exam, labs, ques], axis=1)\n",
    "df.shape"
   ]
  },
  {
   "attachments": {},
   "cell_type": "markdown",
   "metadata": {},
   "source": [
    "**Data Cleaning**"
   ]
  },
  {
   "cell_type": "code",
   "execution_count": 327,
   "metadata": {},
   "outputs": [
    {
     "name": "stdout",
     "output_type": "stream",
     "text": [
      "Dropped 1034 columns with more than 70% null values.\n"
     ]
    },
    {
     "data": {
      "text/plain": [
       "(10175, 782)"
      ]
     },
     "execution_count": 327,
     "metadata": {},
     "output_type": "execute_result"
    }
   ],
   "source": [
    "null_handler(df)\n",
    "df.shape"
   ]
  },
  {
   "cell_type": "code",
   "execution_count": 328,
   "metadata": {},
   "outputs": [
    {
     "name": "stdout",
     "output_type": "stream",
     "text": [
      "Dropped 29 columns with object data types\n"
     ]
    },
    {
     "data": {
      "text/plain": [
       "(10175, 753)"
      ]
     },
     "execution_count": 328,
     "metadata": {},
     "output_type": "execute_result"
    }
   ],
   "source": [
    "object_handler(df)\n",
    "df.shape"
   ]
  },
  {
   "cell_type": "code",
   "execution_count": 329,
   "metadata": {},
   "outputs": [
    {
     "name": "stdout",
     "output_type": "stream",
     "text": [
      "Replaced 725 columns with null values with mean of the column.\n"
     ]
    }
   ],
   "source": [
    "mean_replace_null(df)"
   ]
  },
  {
   "cell_type": "code",
   "execution_count": 332,
   "metadata": {},
   "outputs": [
    {
     "name": "stdout",
     "output_type": "stream",
     "text": [
      "Dataframe has 0 columns with null values\n"
     ]
    }
   ],
   "source": [
    "check_nulls(df)"
   ]
  }
 ],
 "metadata": {
  "kernelspec": {
   "display_name": "Python 3",
   "language": "python",
   "name": "python3"
  },
  "language_info": {
   "codemirror_mode": {
    "name": "ipython",
    "version": 3
   },
   "file_extension": ".py",
   "mimetype": "text/x-python",
   "name": "python",
   "nbconvert_exporter": "python",
   "pygments_lexer": "ipython3",
   "version": "3.11.0"
  },
  "orig_nbformat": 4
 },
 "nbformat": 4,
 "nbformat_minor": 2
}
